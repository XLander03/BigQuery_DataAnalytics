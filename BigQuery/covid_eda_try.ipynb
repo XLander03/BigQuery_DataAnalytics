{
 "cells": [
  {
   "cell_type": "code",
   "execution_count": 1,
   "metadata": {},
   "outputs": [],
   "source": [
    "%load_ext autoreload\n",
    "%autoreload 2\n",
    "import os\n",
    "import pandas as pd\n",
    "os.environ[\"GOOGLE_APPLICATION_CREDENTIALS\"]=\"E:\\Workspace\\Python\\Workspace\\ML_AI\\singular-server-393911-b92f5a618cf9.json\""
   ]
  },
  {
   "cell_type": "code",
   "execution_count": 2,
   "metadata": {},
   "outputs": [
    {
     "ename": "ModuleNotFoundError",
     "evalue": "No module named 'google.cloud'",
     "output_type": "error",
     "traceback": [
      "\u001b[0;31m---------------------------------------------------------------------------\u001b[0m",
      "\u001b[0;31mModuleNotFoundError\u001b[0m                       Traceback (most recent call last)",
      "\u001b[1;32m/Users/Shared/Data/Github/BigQuery_DataAnalytics/BigQuery/covid_eda_try.ipynb Cell 2\u001b[0m line \u001b[0;36m1\n\u001b[0;32m----> <a href='vscode-notebook-cell:/Users/Shared/Data/Github/BigQuery_DataAnalytics/BigQuery/covid_eda_try.ipynb#W1sZmlsZQ%3D%3D?line=0'>1</a>\u001b[0m \u001b[39mfrom\u001b[39;00m \u001b[39mgoogle\u001b[39;00m\u001b[39m.\u001b[39;00m\u001b[39mcloud\u001b[39;00m \u001b[39mimport\u001b[39;00m bigquery\n\u001b[1;32m      <a href='vscode-notebook-cell:/Users/Shared/Data/Github/BigQuery_DataAnalytics/BigQuery/covid_eda_try.ipynb#W1sZmlsZQ%3D%3D?line=1'>2</a>\u001b[0m client \u001b[39m=\u001b[39m bigquery\u001b[39m.\u001b[39mClient()\n\u001b[1;32m      <a href='vscode-notebook-cell:/Users/Shared/Data/Github/BigQuery_DataAnalytics/BigQuery/covid_eda_try.ipynb#W1sZmlsZQ%3D%3D?line=3'>4</a>\u001b[0m query \u001b[39m=\u001b[39m \u001b[39m\"\"\"\u001b[39m\n\u001b[1;32m      <a href='vscode-notebook-cell:/Users/Shared/Data/Github/BigQuery_DataAnalytics/BigQuery/covid_eda_try.ipynb#W1sZmlsZQ%3D%3D?line=4'>5</a>\u001b[0m \u001b[39mSELECT\u001b[39m\n\u001b[1;32m      <a href='vscode-notebook-cell:/Users/Shared/Data/Github/BigQuery_DataAnalytics/BigQuery/covid_eda_try.ipynb#W1sZmlsZQ%3D%3D?line=5'>6</a>\u001b[0m \u001b[39m  date, SUM(confirmed) num_reports\u001b[39m\n\u001b[0;32m   (...)\u001b[0m\n\u001b[1;32m     <a href='vscode-notebook-cell:/Users/Shared/Data/Github/BigQuery_DataAnalytics/BigQuery/covid_eda_try.ipynb#W1sZmlsZQ%3D%3D?line=11'>12</a>\u001b[0m \u001b[39mORDER BY date ASC\u001b[39m\n\u001b[1;32m     <a href='vscode-notebook-cell:/Users/Shared/Data/Github/BigQuery_DataAnalytics/BigQuery/covid_eda_try.ipynb#W1sZmlsZQ%3D%3D?line=12'>13</a>\u001b[0m \u001b[39m\"\"\"\u001b[39m\n",
      "\u001b[0;31mModuleNotFoundError\u001b[0m: No module named 'google.cloud'"
     ]
    }
   ],
   "source": [
    "from google.cloud import bigquery\n",
    "client = bigquery.Client()\n",
    "\n",
    "query = \"\"\"\n",
    "SELECT\n",
    "  date, SUM(confirmed) num_reports\n",
    "FROM `bigquery-public-data.covid19_open_data.compatibility_view`\n",
    "WHERE country_region = '{country}'\n",
    "    AND date BETWEEN '{start_date}' AND '{end_date}'\n",
    "GROUP BY date\n",
    "HAVING num_reports IS NOT NULL\n",
    "ORDER BY date ASC\n",
    "\"\"\"\n",
    "\n",
    "#function to estimate the query output's size in bytes\n",
    "def estimate_query_size(query, parameters):\n",
    "    if parameters:\n",
    "        query = query.format(**parameters)    \n",
    "    job_config = bigquery.job.QueryJobConfig(dry_run=True)\n",
    "    job = client.query(query, job_config=job_config)\n",
    "    return f\"Estimated Query size will be: {job.total_bytes_processed} bytes\"\n",
    "\n",
    "\n",
    "def execute_query(query, parameters):\n",
    "    \n",
    "    # Replacing parameter values\n",
    "    if parameters:\n",
    "        query = query.format(**parameters)\n",
    "\n",
    "    query_job = client.query(query)\n",
    "    results = query_job.result()\n",
    "\n",
    "    if results.total_rows == 0:\n",
    "        print(\"Query returns an empty table\")\n",
    "        return None\n",
    "\n",
    "    print(\"Query returns a valid table\")\n",
    "    return results\n",
    "\n",
    "\n",
    "country = input(\"Enter a country name:\").strip()\n",
    "start_date = input(\"Enter the start date (YYYY-MM-DD):\").strip()\n",
    "end_date = input(\"Enter the end date (YYYY-MM-DD):\").strip()\n",
    "df_name = input(\"Enter the DataFrame name:\").strip()\n",
    "\n",
    "\n",
    "parameters = {\n",
    "    \"country\": country,\n",
    "    \"start_date\": start_date,\n",
    "    \"end_date\": end_date\n",
    "}\n",
    "\n",
    "\n",
    "print(estimate_query_size(query,parameters))\n",
    "results = execute_query(query, parameters)\n",
    "\n",
    "if results:\n",
    "    globals()[df_name] = results.to_dataframe()\n",
    "    print(f\"{df_name} DataFrame created successfully.\")\n",
    "\n",
    "\n",
    "\n"
   ]
  },
  {
   "cell_type": "markdown",
   "metadata": {},
   "source": [
    "**EDA on covid dataset**"
   ]
  }
 ],
 "metadata": {
  "kernelspec": {
   "display_name": "base",
   "language": "python",
   "name": "python3"
  },
  "language_info": {
   "codemirror_mode": {
    "name": "ipython",
    "version": 3
   },
   "file_extension": ".py",
   "mimetype": "text/x-python",
   "name": "python",
   "nbconvert_exporter": "python",
   "pygments_lexer": "ipython3",
   "version": "3.10.2"
  },
  "orig_nbformat": 4
 },
 "nbformat": 4,
 "nbformat_minor": 2
}
